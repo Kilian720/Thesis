{
 "cells": [
  {
   "cell_type": "markdown",
   "id": "147054ac-bb0d-464f-ab15-f4f3a4c1d04e",
   "metadata": {},
   "source": [
    "Comparing with only Pumping Model"
   ]
  },
  {
   "cell_type": "code",
   "execution_count": null,
   "id": "67878be7-220a-4100-873b-2774ce8fd891",
   "metadata": {},
   "outputs": [],
   "source": [
    "def gen_only_objective(g):\n",
    "    return -np.sum(prices * g)  # Only generation earns revenue\n",
    "\n",
    "def compute_storage_gen_only(g):\n",
    "    S = [initial_storage]\n",
    "    for t in range(T):\n",
    "        S.append(S[-1] - gen_efficiency * g[t] + inflows[t])\n",
    "    return np.array(S)\n",
    "\n",
    "def run_gen_only_model():\n",
    "    # Constraints for gen-only case\n",
    "    gen_only_constraints = []\n",
    "    for t in range(1, T + 1):\n",
    "        gen_only_constraints.append({\n",
    "            'type': 'ineq',\n",
    "            'fun': lambda g, t=t: compute_storage_gen_only(g)[t] - S_min\n",
    "        })\n",
    "        gen_only_constraints.append({\n",
    "            'type': 'ineq',\n",
    "            'fun': lambda g, t=t: reservoir_capacity - compute_storage_gen_only(g)[t]\n",
    "        })\n",
    "    gen_only_constraints.append({\n",
    "        'type': 'eq',\n",
    "        'fun': lambda g: compute_storage_gen_only(g)[-1] - initial_storage\n",
    "    })\n",
    "\n",
    "    bounds_gen_only = [(0, gen_max)] * T\n",
    "    g0 = np.zeros(T)\n",
    "\n",
    "    result = minimize(gen_only_objective, g0, method='SLSQP', bounds=bounds_gen_only, constraints=gen_only_constraints)\n",
    "    \n",
    "    if result.success:\n",
    "        g_opt = result.x\n",
    "        S_opt = compute_storage_gen_only(g_opt)\n",
    "        total_profit = -gen_only_objective(g_opt)\n",
    "        print(\"Gen-Only Model:\")\n",
    "        print(\"  Total Daily Profit: €\", round(total_profit, 2))\n",
    "        return g_opt, S_opt, total_profit\n",
    "    else:\n",
    "        print(\"Gen-Only Model: Optimization did not converge.\")\n",
    "        return None, None, None\n",
    "g_gen_only, S_gen_only, profit_gen_only = run_gen_only_model()"
   ]
  }
 ],
 "metadata": {
  "kernelspec": {
   "display_name": "Python 3 (ipykernel)",
   "language": "python",
   "name": "python3"
  },
  "language_info": {
   "codemirror_mode": {
    "name": "ipython",
    "version": 3
   },
   "file_extension": ".py",
   "mimetype": "text/x-python",
   "name": "python",
   "nbconvert_exporter": "python",
   "pygments_lexer": "ipython3",
   "version": "3.12.7"
  }
 },
 "nbformat": 4,
 "nbformat_minor": 5
}
